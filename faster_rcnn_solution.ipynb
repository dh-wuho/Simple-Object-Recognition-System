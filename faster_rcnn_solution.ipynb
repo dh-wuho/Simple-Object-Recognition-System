{
 "cells": [
  {
   "cell_type": "markdown",
   "metadata": {},
   "source": [
    "step 1:"
   ]
  },
  {
   "cell_type": "code",
   "execution_count": 2,
   "metadata": {
    "scrolled": true
   },
   "outputs": [],
   "source": [
    "### run this step in jupyter.\n",
    "\n",
    "%cd ~/522/test\n",
    "  \n",
    "!git clone --quiet https://github.com/tensorflow/models.git\n",
    "\n",
    "# !sudo -S apt-get install -qq protobuf-compiler python-tk\n",
    "\n",
    "import getpass\n",
    "import os\n",
    "\n",
    "password = getpass.getpass()\n",
    "command = \"sudo -S apt-get install -qq protobuf-compiler python-tk\"\n",
    "os.system('echo %s | %s' % (password, command))\n",
    "\n",
    "!pip install -q Cython contextlib2 pillow lxml matplotlib PyDrive\n",
    "\n",
    "!pip install -q pycocotools\n",
    "\n",
    "%cd ~/522/test/models/research\n",
    "!protoc object_detection/protos/*.proto --python_out=."
   ]
  },
  {
   "cell_type": "markdown",
   "metadata": {},
   "source": [
    "step 2:"
   ]
  },
  {
   "cell_type": "code",
   "execution_count": null,
   "metadata": {},
   "outputs": [],
   "source": [
    "### run this step in pycharm. Configure the sources root and PYTHONPATH in pycharm, then run model_builder_test.py\n",
    "\n",
    "# import os\n",
    "# os.environ['PYTHONPATH'] += ':/home/justin/522/test/models/research/:/root/522/test/models/research/slim/'\n",
    "\n",
    "!python object_detection/builders/model_builder_test.py"
   ]
  },
  {
   "cell_type": "markdown",
   "metadata": {},
   "source": [
    "step 3:"
   ]
  },
  {
   "cell_type": "code",
   "execution_count": 1,
   "metadata": {},
   "outputs": [],
   "source": [
    "### this step can be achieve manually or run by jupyter(but path and code need to be modified)\n",
    "\n",
    "%cd ~/522/test\n",
    "%mkdir datalab\n",
    "%cd datalab\n",
    "\n",
    "!echo \"item {\\n id: 1\\n name: 'dog'\\n}\" > label_map.pbtxt\n",
    "\n",
    "fileId = ''\n",
    "\n",
    "### this part download the dog-dataset.zip and then unzip(folder structure is modified)\n",
    "import os\n",
    "from zipfile import ZipFile\n",
    "from shutil import copy\n",
    "from pydrive.auth import GoogleAuth\n",
    "from pydrive.drive import GoogleDrive\n",
    "from google.colab import auth\n",
    "from oauth2client.client import GoogleCredentials\n",
    "\n",
    "auth.authenticate_user()\n",
    "gauth = GoogleAuth()\n",
    "gauth.credentials = GoogleCredentials.get_application_default()\n",
    "drive = GoogleDrive(gauth)\n",
    "\n",
    "fileName = fileId + '.zip'\n",
    "downloaded = drive.CreateFile({'id': fileId})\n",
    "downloaded.GetContentFile(fileName)\n",
    "ds = ZipFile(fileName)\n",
    "ds.extractall()\n",
    "os.remove(fileName)\n",
    "print('Extracted zip file ' + fileName)\n",
    "\n",
    "### this part generate trainval.txt file\n",
    "image_files=os.listdir('images')\n",
    "im_files=[x.split('.')[0] for x in image_files]\n",
    "with open('annotations/trainval.txt', 'w') as text_file:\n",
    "  for row in im_files:\n",
    "    text_file.write(row + '\\n')"
   ]
  },
  {
   "cell_type": "code",
   "execution_count": 1,
   "metadata": {},
   "outputs": [
    {
     "name": "stdout",
     "output_type": "stream",
     "text": [
      "/home/justin/522/test/datalab\n"
     ]
    }
   ],
   "source": [
    "# import os\n",
    "\n",
    "# %cd ~/522/test/datalab\n",
    "\n",
    "# image_files=os.listdir('images')\n",
    "# im_files=[x.split('.')[0] for x in image_files]\n",
    "# with open('annotations/trainval.txt', 'w') as text_file:\n",
    "#   for row in im_files:\n",
    "#     text_file.write(row + '\\n')"
   ]
  },
  {
   "cell_type": "markdown",
   "metadata": {},
   "source": [
    "step 4: "
   ]
  },
  {
   "cell_type": "code",
   "execution_count": 2,
   "metadata": {},
   "outputs": [
    {
     "name": "stdout",
     "output_type": "stream",
     "text": [
      "/home/justin/522/test/datalab/annotations\n"
     ]
    }
   ],
   "source": [
    "### this step can be achieve manually or run by jupyter(but paths and code need to be modified)\n",
    "### it generates blank image under folder trimaps for each file in xmls\n",
    "\n",
    "%cd ~/522/test/datalab/annotations\n",
    "\n",
    "!mkdir trimaps\n",
    "\n",
    "from PIL import Image\n",
    "image = Image.new('RGB', (640, 480))\n",
    "\n",
    "for filename in os.listdir('xmls'):\n",
    "  filename = os.path.splitext(filename)[0]\n",
    "  image.save('trimaps/' + filename + '.png')"
   ]
  },
  {
   "cell_type": "markdown",
   "metadata": {},
   "source": [
    "step 5:"
   ]
  },
  {
   "cell_type": "code",
   "execution_count": null,
   "metadata": {},
   "outputs": [],
   "source": [
    "### run this step in pycharm with parameter configured, then rename those two files\n",
    "\n",
    "%cd ~/datalab\n",
    "\n",
    "!python ~/models/research/object_detection/dataset_tools/create_pet_tf_record.py --label_map_path=label_map.pbtxt --data_dir=. --output_dir=. --num_shards=1\n",
    "\n",
    "!mv pet_faces_train.record-00000-of-00001 tf_train.record\n",
    "\n",
    "!mv pet_faces_val.record-00000-of-00001 tf_val.record"
   ]
  },
  {
   "cell_type": "markdown",
   "metadata": {},
   "source": [
    "step 6:"
   ]
  },
  {
   "cell_type": "code",
   "execution_count": 1,
   "metadata": {},
   "outputs": [
    {
     "name": "stdout",
     "output_type": "stream",
     "text": [
      "/home/justin/522/test/datalab\n"
     ]
    }
   ],
   "source": [
    "### run this step in jupyter, cd path needs to be modified\n",
    "\n",
    "%cd ~/522/test/datalab\n",
    "\n",
    "import os\n",
    "import shutil\n",
    "import glob\n",
    "import urllib\n",
    "import tarfile\n",
    "\n",
    "MODEL = 'faster_rcnn_inception_v2_coco_2018_01_28'\n",
    "MODEL_FILE = MODEL + '.tar.gz'\n",
    "DOWNLOAD_BASE = 'http://download.tensorflow.org/models/object_detection/'\n",
    "DEST_DIR = 'pretrained_model'\n",
    "\n",
    "if not (os.path.exists(MODEL_FILE)):\n",
    "  opener = urllib.URLopener()\n",
    "  opener.retrieve(DOWNLOAD_BASE + MODEL_FILE, MODEL_FILE)\n",
    "\n",
    "tar = tarfile.open(MODEL_FILE)\n",
    "tar.extractall()\n",
    "tar.close()\n",
    "\n",
    "os.remove(MODEL_FILE)\n",
    "if (os.path.exists(DEST_DIR)):\n",
    "  shutil.rmtree(DEST_DIR)\n",
    "os.rename(MODEL, DEST_DIR)"
   ]
  },
  {
   "cell_type": "markdown",
   "metadata": {},
   "source": [
    "step 7:"
   ]
  },
  {
   "cell_type": "code",
   "execution_count": 3,
   "metadata": {},
   "outputs": [
    {
     "name": "stdout",
     "output_type": "stream",
     "text": [
      "/home/justin/522/test/datalab\n"
     ]
    }
   ],
   "source": [
    "### run this step in jupyter, cd path and PATH_TO_BE_CONFIGURED paths needs to be modified to local ones\n",
    "\n",
    "%cd ~/522/test/datalab\n",
    "\n",
    "import re\n",
    "\n",
    "#filename = '/content/datalab/pretrained_model/pipeline.config'\n",
    "filename = '/home/justin/522/test/models/research/object_detection/samples/configs/faster_rcnn_inception_v2_pets.config'\n",
    "with open(filename) as f:\n",
    "  s = f.read()\n",
    "with open(filename, 'w') as f:\n",
    "  s = re.sub('PATH_TO_BE_CONFIGURED/model.ckpt', '/home/justin/522/test/datalab/pretrained_model/model.ckpt', s)\n",
    "  s = re.sub('PATH_TO_BE_CONFIGURED/pet_faces_train.record-\\?\\?\\?\\?\\?-of-00010', '/home/justin/522/test/datalab/tf_train.record', s)\n",
    "  s = re.sub('PATH_TO_BE_CONFIGURED/pet_faces_val.record-\\?\\?\\?\\?\\?-of-00010', '/home/justin/522/test/datalab/tf_val.record', s)\n",
    "  s = re.sub('PATH_TO_BE_CONFIGURED/pet_label_map.pbtxt', '/home/justin/522/test/datalab/label_map.pbtxt', s)\n",
    "  f.write(s)"
   ]
  },
  {
   "cell_type": "markdown",
   "metadata": {},
   "source": [
    "step 8:"
   ]
  },
  {
   "cell_type": "code",
   "execution_count": 4,
   "metadata": {},
   "outputs": [],
   "source": [
    "### run this step in pycharm, with parameter configered\n",
    "### also, can use Tensorboard during the process to get some charts\n",
    "\n",
    "# %cd ~/522/test/datalab\n",
    "\n",
    "!python /home/justin/522/test/models/research/object_detection/model_main.py \\\n",
    "    --pipeline_config_path=/home/justin/522/test/models/research/object_detection/samples/configs/faster_rcnn_inception_v2_pets.config \\\n",
    "    --model_dir=/home/justin/522/test/datalab/trained \\\n",
    "    --alsologtostderr \\\n",
    "    --num_train_steps=3000 \\\n",
    "    --num_eval_steps=500"
   ]
  },
  {
   "cell_type": "markdown",
   "metadata": {},
   "source": [
    "step 9:"
   ]
  },
  {
   "cell_type": "code",
   "execution_count": 1,
   "metadata": {},
   "outputs": [
    {
     "name": "stdout",
     "output_type": "stream",
     "text": [
      "/home/justin/522/test/datalab\n",
      "model.ckpt-3000\n"
     ]
    }
   ],
   "source": [
    "### run this step in jupyter to get the value of last_model.\n",
    "\n",
    "%cd ~/522/test/datalab\n",
    "\n",
    "import os\n",
    "\n",
    "lst = os.listdir('trained')\n",
    "lf = filter(lambda k: 'model.ckpt-' in k, lst)\n",
    "last_model = sorted(lf)[-1].replace('.meta', '')\n",
    "print last_model"
   ]
  },
  {
   "cell_type": "markdown",
   "metadata": {},
   "source": [
    "data example in this step: \n",
    "lst: all the files in directory trained (['model.ckpt-2494.data-00000-of-00001', 'graph.pbtxt', 'model.ckpt-2905.index',...])\n",
    "lf: files that contains 'model.ckpt-' (['model.ckpt-2494.data-00000-of-00001', 'model.ckpt-2905.index',...])\n",
    "last_model: the file with largest checkpoint number (model.ckpt-3322)"
   ]
  },
  {
   "cell_type": "markdown",
   "metadata": {},
   "source": [
    "step 10:"
   ]
  },
  {
   "cell_type": "code",
   "execution_count": null,
   "metadata": {},
   "outputs": [],
   "source": [
    "### run this step in pycharm, with parameters set according to the result of the previous step\n",
    "### $last_model means the value of variable last_model\n",
    "\n",
    "!python ~/models/research/object_detection/export_inference_graph.py \\\n",
    "    --input_type=image_tensor \\\n",
    "    --pipeline_config_path=/home/justin/522/test/models/research/object_detection/samples/configs/faster_rcnn_inception_v2_pets.config \\\n",
    "    --output_directory=/home/justin/522/test/datalab/fine_tuned_model \\\n",
    "    --trained_checkpoint_prefix=/home/justin/522/test/datalab/trained/$last_model"
   ]
  },
  {
   "cell_type": "markdown",
   "metadata": {},
   "source": [
    "step 11:"
   ]
  },
  {
   "cell_type": "code",
   "execution_count": 3,
   "metadata": {},
   "outputs": [
    {
     "name": "stdout",
     "output_type": "stream",
     "text": [
      "/home/justin/522/test/datalab\n",
      "saved file\n"
     ]
    }
   ],
   "source": [
    "### run this step in jupyter. the image_path is the file path of the image for which u want to run object dectection\n",
    "\n",
    "%cd /home/justin/522/test/datalab\n",
    "\n",
    "image_path = '/home/justin/522/blimp_0068.jpg'\n",
    "\n",
    "with open (image_path) as f:\n",
    "    image = f.read()\n",
    "with open ('image1.jpg', 'wb') as f:\n",
    "    f.write(image)\n",
    "    f.close()\n",
    "    print('saved file')"
   ]
  },
  {
   "cell_type": "markdown",
   "metadata": {},
   "source": [
    "step 12:"
   ]
  },
  {
   "cell_type": "code",
   "execution_count": null,
   "metadata": {},
   "outputs": [],
   "source": [
    "### run this step in pycharm. new a python file in model and copy the following code into it.(name it run_inference.py)\n",
    "### then run it. \n",
    "\n",
    "import numpy as np\n",
    "import os\n",
    "import six.moves.urllib as urllib\n",
    "import sys\n",
    "import tarfile\n",
    "import tensorflow as tf\n",
    "import zipfile\n",
    "\n",
    "from collections import defaultdict\n",
    "from io import StringIO\n",
    "from matplotlib import pyplot as plt\n",
    "from PIL import Image\n",
    "\n",
    "# # This is needed since the notebook is stored in the object_detection folder.\n",
    "# sys.path.append(\"..\")\n",
    "from object_detection.utils import ops as utils_ops\n",
    "\n",
    "# if tf.__version__ < '1.4.0':\n",
    "#     raise ImportError('Please upgrade your tensorflow installation to v1.4.* or later!')\n",
    "\n",
    "# # This is needed to display the images.\n",
    "# % matplotlib inline\n",
    "\n",
    "from object_detection.utils import label_map_util\n",
    "\n",
    "from object_detection.utils import visualization_utils as vis_util\n",
    "\n",
    "# What model to download.\n",
    "# Path to frozen detection graph. This is the actual model that is used for the object detection.\n",
    "PATH_TO_CKPT = '/home/justin/522/test/datalab/fine_tuned_model' + '/frozen_inference_graph.pb'\n",
    "\n",
    "# List of the strings that is used to add correct label for each box.\n",
    "PATH_TO_LABELS = os.path.join('/home/justin/522/test/datalab', 'label_map.pbtxt')\n",
    "\n",
    "NUM_CLASSES = 37\n",
    "\n",
    "detection_graph = tf.Graph()\n",
    "with detection_graph.as_default():\n",
    "    od_graph_def = tf.GraphDef()\n",
    "    with tf.gfile.GFile(PATH_TO_CKPT, 'rb') as fid:\n",
    "        serialized_graph = fid.read()\n",
    "        od_graph_def.ParseFromString(serialized_graph)\n",
    "        tf.import_graph_def(od_graph_def, name='')\n",
    "\n",
    "label_map = label_map_util.load_labelmap(PATH_TO_LABELS)\n",
    "categories = label_map_util.convert_label_map_to_categories(label_map, max_num_classes=NUM_CLASSES,\n",
    "                                                            use_display_name=True)\n",
    "category_index = label_map_util.create_category_index(categories)\n",
    "\n",
    "\n",
    "def load_image_into_numpy_array(image):\n",
    "    (im_width, im_height) = image.size\n",
    "    return np.array(image.getdata()).reshape(\n",
    "        (im_height, im_width, 3)).astype(np.uint8)\n",
    "\n",
    "\n",
    "# If you want to test the code with your images, just add path to the images to the TEST_IMAGE_PATHS.\n",
    "PATH_TO_TEST_IMAGES_DIR = '/home/justin/522/test/datalab/'\n",
    "TEST_IMAGE_PATHS = [os.path.join(PATH_TO_TEST_IMAGES_DIR, 'image{}.jpg'.format(i)) for i in range(1, 2)]\n",
    "\n",
    "# Size, in inches, of the output images.\n",
    "IMAGE_SIZE = (12, 8)\n",
    "\n",
    "\n",
    "def run_inference_for_single_image(image, graph):\n",
    "    with graph.as_default():\n",
    "        with tf.Session() as sess:\n",
    "            # Get handles to input and output tensors\n",
    "            ops = tf.get_default_graph().get_operations()\n",
    "            all_tensor_names = {output.name for op in ops for output in op.outputs}\n",
    "            tensor_dict = {}\n",
    "            for key in [\n",
    "                'num_detections', 'detection_boxes', 'detection_scores',\n",
    "                'detection_classes', 'detection_masks'\n",
    "            ]:\n",
    "                tensor_name = key + ':0'\n",
    "                if tensor_name in all_tensor_names:\n",
    "                    tensor_dict[key] = tf.get_default_graph().get_tensor_by_name(\n",
    "                        tensor_name)\n",
    "            if 'detection_masks' in tensor_dict:\n",
    "                # The following processing is only for single image\n",
    "                detection_boxes = tf.squeeze(tensor_dict['detection_boxes'], [0])\n",
    "                detection_masks = tf.squeeze(tensor_dict['detection_masks'], [0])\n",
    "                # Reframe is required to translate mask from box coordinates to image coordinates and fit the image size.\n",
    "                real_num_detection = tf.cast(tensor_dict['num_detections'][0], tf.int32)\n",
    "                detection_boxes = tf.slice(detection_boxes, [0, 0], [real_num_detection, -1])\n",
    "                detection_masks = tf.slice(detection_masks, [0, 0, 0], [real_num_detection, -1, -1])\n",
    "                detection_masks_reframed = utils_ops.reframe_box_masks_to_image_masks(\n",
    "                    detection_masks, detection_boxes, image.shape[0], image.shape[1])\n",
    "                detection_masks_reframed = tf.cast(\n",
    "                    tf.greater(detection_masks_reframed, 0.5), tf.uint8)\n",
    "                # Follow the convention by adding back the batch dimension\n",
    "                tensor_dict['detection_masks'] = tf.expand_dims(\n",
    "                    detection_masks_reframed, 0)\n",
    "            image_tensor = tf.get_default_graph().get_tensor_by_name('image_tensor:0')\n",
    "\n",
    "            # Run inference\n",
    "            output_dict = sess.run(tensor_dict,\n",
    "                                   feed_dict={image_tensor: np.expand_dims(image, 0)})\n",
    "\n",
    "            # all outputs are float32 numpy arrays, so convert types as appropriate\n",
    "            output_dict['num_detections'] = int(output_dict['num_detections'][0])\n",
    "            output_dict['detection_classes'] = output_dict[\n",
    "                'detection_classes'][0].astype(np.uint8)\n",
    "            output_dict['detection_boxes'] = output_dict['detection_boxes'][0]\n",
    "            output_dict['detection_scores'] = output_dict['detection_scores'][0]\n",
    "            if 'detection_masks' in output_dict:\n",
    "                output_dict['detection_masks'] = output_dict['detection_masks'][0]\n",
    "    return output_dict\n",
    "\n",
    "\n",
    "for image_path in TEST_IMAGE_PATHS:\n",
    "    image = Image.open(image_path)\n",
    "    # the array based representation of the image will be used later in order to prepare the\n",
    "    # result image with boxes and labels on it.\n",
    "    image_np = load_image_into_numpy_array(image)\n",
    "    # Expand dimensions since the model expects images to have shape: [1, None, None, 3]\n",
    "    image_np_expanded = np.expand_dims(image_np, axis=0)\n",
    "    # Actual detection.\n",
    "    output_dict = run_inference_for_single_image(image_np, detection_graph)\n",
    "    # Visualization of the results of a detection.\n",
    "    vis_util.visualize_boxes_and_labels_on_image_array(\n",
    "        image_np,\n",
    "        output_dict['detection_boxes'],\n",
    "        output_dict['detection_classes'],\n",
    "        output_dict['detection_scores'],\n",
    "        category_index,\n",
    "        instance_masks=output_dict.get('detection_masks'),\n",
    "        use_normalized_coordinates=True,\n",
    "        line_thickness=8)\n",
    "    plt.figure(figsize=IMAGE_SIZE)\n",
    "    plt.imshow(image_np)\n",
    "    plt.show()"
   ]
  }
 ],
 "metadata": {
  "kernelspec": {
   "display_name": "Python 2",
   "language": "python",
   "name": "python2"
  },
  "language_info": {
   "codemirror_mode": {
    "name": "ipython",
    "version": 2
   },
   "file_extension": ".py",
   "mimetype": "text/x-python",
   "name": "python",
   "nbconvert_exporter": "python",
   "pygments_lexer": "ipython2",
   "version": "2.7.15+"
  }
 },
 "nbformat": 4,
 "nbformat_minor": 2
}
